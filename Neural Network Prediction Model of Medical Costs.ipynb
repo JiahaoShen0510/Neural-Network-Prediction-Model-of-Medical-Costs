{
 "cells": [
  {
   "cell_type": "code",
   "execution_count": 1,
   "metadata": {},
   "outputs": [],
   "source": [
    "import numpy as np\n",
    "import pandas as pd\n",
    "import matplotlib.pyplot as plt\n",
    "import seaborn as sns\n",
    "sns.set()\n",
    "\n",
    "import tensorflow as tf"
   ]
  },
  {
   "cell_type": "code",
   "execution_count": null,
   "metadata": {},
   "outputs": [],
   "source": [
    "# understand the data"
   ]
  },
  {
   "cell_type": "code",
   "execution_count": 2,
   "metadata": {},
   "outputs": [
    {
     "data": {
      "text/html": [
       "<div>\n",
       "<style scoped>\n",
       "    .dataframe tbody tr th:only-of-type {\n",
       "        vertical-align: middle;\n",
       "    }\n",
       "\n",
       "    .dataframe tbody tr th {\n",
       "        vertical-align: top;\n",
       "    }\n",
       "\n",
       "    .dataframe thead th {\n",
       "        text-align: right;\n",
       "    }\n",
       "</style>\n",
       "<table border=\"1\" class=\"dataframe\">\n",
       "  <thead>\n",
       "    <tr style=\"text-align: right;\">\n",
       "      <th></th>\n",
       "      <th>age</th>\n",
       "      <th>sex</th>\n",
       "      <th>bmi</th>\n",
       "      <th>children</th>\n",
       "      <th>smoker</th>\n",
       "      <th>region</th>\n",
       "      <th>charges</th>\n",
       "    </tr>\n",
       "  </thead>\n",
       "  <tbody>\n",
       "    <tr>\n",
       "      <th>0</th>\n",
       "      <td>19</td>\n",
       "      <td>female</td>\n",
       "      <td>27.900</td>\n",
       "      <td>0</td>\n",
       "      <td>yes</td>\n",
       "      <td>southwest</td>\n",
       "      <td>16884.92400</td>\n",
       "    </tr>\n",
       "    <tr>\n",
       "      <th>1</th>\n",
       "      <td>18</td>\n",
       "      <td>male</td>\n",
       "      <td>33.770</td>\n",
       "      <td>1</td>\n",
       "      <td>no</td>\n",
       "      <td>southeast</td>\n",
       "      <td>1725.55230</td>\n",
       "    </tr>\n",
       "    <tr>\n",
       "      <th>2</th>\n",
       "      <td>28</td>\n",
       "      <td>male</td>\n",
       "      <td>33.000</td>\n",
       "      <td>3</td>\n",
       "      <td>no</td>\n",
       "      <td>southeast</td>\n",
       "      <td>4449.46200</td>\n",
       "    </tr>\n",
       "    <tr>\n",
       "      <th>3</th>\n",
       "      <td>33</td>\n",
       "      <td>male</td>\n",
       "      <td>22.705</td>\n",
       "      <td>0</td>\n",
       "      <td>no</td>\n",
       "      <td>northwest</td>\n",
       "      <td>21984.47061</td>\n",
       "    </tr>\n",
       "    <tr>\n",
       "      <th>4</th>\n",
       "      <td>32</td>\n",
       "      <td>male</td>\n",
       "      <td>28.880</td>\n",
       "      <td>0</td>\n",
       "      <td>no</td>\n",
       "      <td>northwest</td>\n",
       "      <td>3866.85520</td>\n",
       "    </tr>\n",
       "    <tr>\n",
       "      <th>...</th>\n",
       "      <td>...</td>\n",
       "      <td>...</td>\n",
       "      <td>...</td>\n",
       "      <td>...</td>\n",
       "      <td>...</td>\n",
       "      <td>...</td>\n",
       "      <td>...</td>\n",
       "    </tr>\n",
       "    <tr>\n",
       "      <th>1333</th>\n",
       "      <td>50</td>\n",
       "      <td>male</td>\n",
       "      <td>30.970</td>\n",
       "      <td>3</td>\n",
       "      <td>no</td>\n",
       "      <td>northwest</td>\n",
       "      <td>10600.54830</td>\n",
       "    </tr>\n",
       "    <tr>\n",
       "      <th>1334</th>\n",
       "      <td>18</td>\n",
       "      <td>female</td>\n",
       "      <td>31.920</td>\n",
       "      <td>0</td>\n",
       "      <td>no</td>\n",
       "      <td>northeast</td>\n",
       "      <td>2205.98080</td>\n",
       "    </tr>\n",
       "    <tr>\n",
       "      <th>1335</th>\n",
       "      <td>18</td>\n",
       "      <td>female</td>\n",
       "      <td>36.850</td>\n",
       "      <td>0</td>\n",
       "      <td>no</td>\n",
       "      <td>southeast</td>\n",
       "      <td>1629.83350</td>\n",
       "    </tr>\n",
       "    <tr>\n",
       "      <th>1336</th>\n",
       "      <td>21</td>\n",
       "      <td>female</td>\n",
       "      <td>25.800</td>\n",
       "      <td>0</td>\n",
       "      <td>no</td>\n",
       "      <td>southwest</td>\n",
       "      <td>2007.94500</td>\n",
       "    </tr>\n",
       "    <tr>\n",
       "      <th>1337</th>\n",
       "      <td>61</td>\n",
       "      <td>female</td>\n",
       "      <td>29.070</td>\n",
       "      <td>0</td>\n",
       "      <td>yes</td>\n",
       "      <td>northwest</td>\n",
       "      <td>29141.36030</td>\n",
       "    </tr>\n",
       "  </tbody>\n",
       "</table>\n",
       "<p>1338 rows × 7 columns</p>\n",
       "</div>"
      ],
      "text/plain": [
       "      age     sex     bmi  children smoker     region      charges\n",
       "0      19  female  27.900         0    yes  southwest  16884.92400\n",
       "1      18    male  33.770         1     no  southeast   1725.55230\n",
       "2      28    male  33.000         3     no  southeast   4449.46200\n",
       "3      33    male  22.705         0     no  northwest  21984.47061\n",
       "4      32    male  28.880         0     no  northwest   3866.85520\n",
       "...   ...     ...     ...       ...    ...        ...          ...\n",
       "1333   50    male  30.970         3     no  northwest  10600.54830\n",
       "1334   18  female  31.920         0     no  northeast   2205.98080\n",
       "1335   18  female  36.850         0     no  southeast   1629.83350\n",
       "1336   21  female  25.800         0     no  southwest   2007.94500\n",
       "1337   61  female  29.070         0    yes  northwest  29141.36030\n",
       "\n",
       "[1338 rows x 7 columns]"
      ]
     },
     "execution_count": 2,
     "metadata": {},
     "output_type": "execute_result"
    }
   ],
   "source": [
    "data=pd.read_csv(\"insurance.csv\")\n",
    "data"
   ]
  },
  {
   "cell_type": "code",
   "execution_count": 3,
   "metadata": {
    "scrolled": true
   },
   "outputs": [
    {
     "data": {
      "text/plain": [
       "array(['age', 'sex', 'bmi', 'children', 'smoker', 'region', 'charges'],\n",
       "      dtype=object)"
      ]
     },
     "execution_count": 3,
     "metadata": {},
     "output_type": "execute_result"
    }
   ],
   "source": [
    "data.columns.values"
   ]
  },
  {
   "cell_type": "code",
   "execution_count": 4,
   "metadata": {},
   "outputs": [
    {
     "data": {
      "text/plain": [
       "age         0\n",
       "sex         0\n",
       "bmi         0\n",
       "children    0\n",
       "smoker      0\n",
       "region      0\n",
       "charges     0\n",
       "dtype: int64"
      ]
     },
     "execution_count": 4,
     "metadata": {},
     "output_type": "execute_result"
    }
   ],
   "source": [
    "data.isnull().sum()"
   ]
  },
  {
   "cell_type": "code",
   "execution_count": 5,
   "metadata": {
    "scrolled": true
   },
   "outputs": [
    {
     "data": {
      "text/plain": [
       "<matplotlib.axes._subplots.AxesSubplot at 0x23d99d64308>"
      ]
     },
     "execution_count": 5,
     "metadata": {},
     "output_type": "execute_result"
    },
    {
     "data": {
      "image/png": "[encoded data removed]",
      "text/plain": [
       "<Figure size 432x288 with 1 Axes>"
      ]
     },
     "metadata": {},
     "output_type": "display_data"
    }
   ],
   "source": [
    "sns.distplot(data[\"bmi\"])"
   ]
  },
  {
   "cell_type": "code",
   "execution_count": 6,
   "metadata": {
    "scrolled": true
   },
   "outputs": [
    {
     "data": {
      "text/plain": [
       "<matplotlib.axes._subplots.AxesSubplot at 0x23d92708e08>"
      ]
     },
     "execution_count": 6,
     "metadata": {},
     "output_type": "execute_result"
    },
    {
     "data": {
      "image/png": "[encoded data removed]",
      "text/plain": [
       "<Figure size 432x288 with 1 Axes>"
      ]
     },
     "metadata": {},
     "output_type": "display_data"
    }
   ],
   "source": [
    "sns.distplot(data[\"charges\"])"
   ]
  },
  {
   "cell_type": "code",
   "execution_count": 90,
   "metadata": {},
   "outputs": [
    {
     "data": {
      "text/plain": [
       "(13270.422265141257, 12110.011236693994)"
      ]
     },
     "execution_count": 90,
     "metadata": {},
     "output_type": "execute_result"
    }
   ],
   "source": [
    "data[\"charges\"].mean(),data[\"charges\"].std()"
   ]
  },
  {
   "cell_type": "code",
   "execution_count": null,
   "metadata": {},
   "outputs": [],
   "source": [
    "# preprocess the data for model training"
   ]
  },
  {
   "cell_type": "code",
   "execution_count": 106,
   "metadata": {
    "scrolled": true
   },
   "outputs": [
    {
     "data": {
      "text/html": [
       "<div>\n",
       "<style scoped>\n",
       "    .dataframe tbody tr th:only-of-type {\n",
       "        vertical-align: middle;\n",
       "    }\n",
       "\n",
       "    .dataframe tbody tr th {\n",
       "        vertical-align: top;\n",
       "    }\n",
       "\n",
       "    .dataframe thead th {\n",
       "        text-align: right;\n",
       "    }\n",
       "</style>\n",
       "<table border=\"1\" class=\"dataframe\">\n",
       "  <thead>\n",
       "    <tr style=\"text-align: right;\">\n",
       "      <th></th>\n",
       "      <th>age</th>\n",
       "      <th>sex</th>\n",
       "      <th>bmi</th>\n",
       "      <th>children</th>\n",
       "      <th>smoker</th>\n",
       "      <th>region</th>\n",
       "      <th>charges</th>\n",
       "    </tr>\n",
       "  </thead>\n",
       "  <tbody>\n",
       "    <tr>\n",
       "      <th>837</th>\n",
       "      <td>56</td>\n",
       "      <td>female</td>\n",
       "      <td>28.310</td>\n",
       "      <td>0</td>\n",
       "      <td>no</td>\n",
       "      <td>northeast</td>\n",
       "      <td>11657.71890</td>\n",
       "    </tr>\n",
       "    <tr>\n",
       "      <th>1001</th>\n",
       "      <td>24</td>\n",
       "      <td>male</td>\n",
       "      <td>32.700</td>\n",
       "      <td>0</td>\n",
       "      <td>yes</td>\n",
       "      <td>southwest</td>\n",
       "      <td>34472.84100</td>\n",
       "    </tr>\n",
       "    <tr>\n",
       "      <th>1046</th>\n",
       "      <td>43</td>\n",
       "      <td>female</td>\n",
       "      <td>25.080</td>\n",
       "      <td>0</td>\n",
       "      <td>no</td>\n",
       "      <td>northeast</td>\n",
       "      <td>7325.04820</td>\n",
       "    </tr>\n",
       "    <tr>\n",
       "      <th>110</th>\n",
       "      <td>54</td>\n",
       "      <td>male</td>\n",
       "      <td>33.630</td>\n",
       "      <td>1</td>\n",
       "      <td>no</td>\n",
       "      <td>northwest</td>\n",
       "      <td>10825.25370</td>\n",
       "    </tr>\n",
       "    <tr>\n",
       "      <th>294</th>\n",
       "      <td>25</td>\n",
       "      <td>male</td>\n",
       "      <td>26.800</td>\n",
       "      <td>3</td>\n",
       "      <td>no</td>\n",
       "      <td>southwest</td>\n",
       "      <td>3906.12700</td>\n",
       "    </tr>\n",
       "    <tr>\n",
       "      <th>...</th>\n",
       "      <td>...</td>\n",
       "      <td>...</td>\n",
       "      <td>...</td>\n",
       "      <td>...</td>\n",
       "      <td>...</td>\n",
       "      <td>...</td>\n",
       "      <td>...</td>\n",
       "    </tr>\n",
       "    <tr>\n",
       "      <th>211</th>\n",
       "      <td>40</td>\n",
       "      <td>male</td>\n",
       "      <td>30.875</td>\n",
       "      <td>4</td>\n",
       "      <td>no</td>\n",
       "      <td>northwest</td>\n",
       "      <td>8162.71625</td>\n",
       "    </tr>\n",
       "    <tr>\n",
       "      <th>546</th>\n",
       "      <td>28</td>\n",
       "      <td>male</td>\n",
       "      <td>35.435</td>\n",
       "      <td>0</td>\n",
       "      <td>no</td>\n",
       "      <td>northeast</td>\n",
       "      <td>3268.84665</td>\n",
       "    </tr>\n",
       "    <tr>\n",
       "      <th>107</th>\n",
       "      <td>26</td>\n",
       "      <td>male</td>\n",
       "      <td>30.875</td>\n",
       "      <td>2</td>\n",
       "      <td>no</td>\n",
       "      <td>northwest</td>\n",
       "      <td>3877.30425</td>\n",
       "    </tr>\n",
       "    <tr>\n",
       "      <th>671</th>\n",
       "      <td>29</td>\n",
       "      <td>female</td>\n",
       "      <td>31.160</td>\n",
       "      <td>0</td>\n",
       "      <td>no</td>\n",
       "      <td>northeast</td>\n",
       "      <td>3943.59540</td>\n",
       "    </tr>\n",
       "    <tr>\n",
       "      <th>805</th>\n",
       "      <td>45</td>\n",
       "      <td>female</td>\n",
       "      <td>35.815</td>\n",
       "      <td>0</td>\n",
       "      <td>no</td>\n",
       "      <td>northwest</td>\n",
       "      <td>7731.85785</td>\n",
       "    </tr>\n",
       "  </tbody>\n",
       "</table>\n",
       "<p>1338 rows × 7 columns</p>\n",
       "</div>"
      ],
      "text/plain": [
       "      age     sex     bmi  children smoker     region      charges\n",
       "837    56  female  28.310         0     no  northeast  11657.71890\n",
       "1001   24    male  32.700         0    yes  southwest  34472.84100\n",
       "1046   43  female  25.080         0     no  northeast   7325.04820\n",
       "110    54    male  33.630         1     no  northwest  10825.25370\n",
       "294    25    male  26.800         3     no  southwest   3906.12700\n",
       "...   ...     ...     ...       ...    ...        ...          ...\n",
       "211    40    male  30.875         4     no  northwest   8162.71625\n",
       "546    28    male  35.435         0     no  northeast   3268.84665\n",
       "107    26    male  30.875         2     no  northwest   3877.30425\n",
       "671    29  female  31.160         0     no  northeast   3943.59540\n",
       "805    45  female  35.815         0     no  northwest   7731.85785\n",
       "\n",
       "[1338 rows x 7 columns]"
      ]
     },
     "execution_count": 106,
     "metadata": {},
     "output_type": "execute_result"
    }
   ],
   "source": [
    "data_shuffle=data.sample(frac=1)\n",
    "data_shuffle"
   ]
  },
  {
   "cell_type": "code",
   "execution_count": 107,
   "metadata": {
    "scrolled": true
   },
   "outputs": [
    {
     "data": {
      "text/html": [
       "<div>\n",
       "<style scoped>\n",
       "    .dataframe tbody tr th:only-of-type {\n",
       "        vertical-align: middle;\n",
       "    }\n",
       "\n",
       "    .dataframe tbody tr th {\n",
       "        vertical-align: top;\n",
       "    }\n",
       "\n",
       "    .dataframe thead th {\n",
       "        text-align: right;\n",
       "    }\n",
       "</style>\n",
       "<table border=\"1\" class=\"dataframe\">\n",
       "  <thead>\n",
       "    <tr style=\"text-align: right;\">\n",
       "      <th></th>\n",
       "      <th>age</th>\n",
       "      <th>sex</th>\n",
       "      <th>bmi</th>\n",
       "      <th>children</th>\n",
       "      <th>smoker</th>\n",
       "      <th>region</th>\n",
       "      <th>charges</th>\n",
       "    </tr>\n",
       "  </thead>\n",
       "  <tbody>\n",
       "    <tr>\n",
       "      <th>0</th>\n",
       "      <td>56</td>\n",
       "      <td>female</td>\n",
       "      <td>28.310</td>\n",
       "      <td>0</td>\n",
       "      <td>no</td>\n",
       "      <td>northeast</td>\n",
       "      <td>11657.71890</td>\n",
       "    </tr>\n",
       "    <tr>\n",
       "      <th>1</th>\n",
       "      <td>24</td>\n",
       "      <td>male</td>\n",
       "      <td>32.700</td>\n",
       "      <td>0</td>\n",
       "      <td>yes</td>\n",
       "      <td>southwest</td>\n",
       "      <td>34472.84100</td>\n",
       "    </tr>\n",
       "    <tr>\n",
       "      <th>2</th>\n",
       "      <td>43</td>\n",
       "      <td>female</td>\n",
       "      <td>25.080</td>\n",
       "      <td>0</td>\n",
       "      <td>no</td>\n",
       "      <td>northeast</td>\n",
       "      <td>7325.04820</td>\n",
       "    </tr>\n",
       "    <tr>\n",
       "      <th>3</th>\n",
       "      <td>54</td>\n",
       "      <td>male</td>\n",
       "      <td>33.630</td>\n",
       "      <td>1</td>\n",
       "      <td>no</td>\n",
       "      <td>northwest</td>\n",
       "      <td>10825.25370</td>\n",
       "    </tr>\n",
       "    <tr>\n",
       "      <th>4</th>\n",
       "      <td>25</td>\n",
       "      <td>male</td>\n",
       "      <td>26.800</td>\n",
       "      <td>3</td>\n",
       "      <td>no</td>\n",
       "      <td>southwest</td>\n",
       "      <td>3906.12700</td>\n",
       "    </tr>\n",
       "    <tr>\n",
       "      <th>...</th>\n",
       "      <td>...</td>\n",
       "      <td>...</td>\n",
       "      <td>...</td>\n",
       "      <td>...</td>\n",
       "      <td>...</td>\n",
       "      <td>...</td>\n",
       "      <td>...</td>\n",
       "    </tr>\n",
       "    <tr>\n",
       "      <th>1333</th>\n",
       "      <td>40</td>\n",
       "      <td>male</td>\n",
       "      <td>30.875</td>\n",
       "      <td>4</td>\n",
       "      <td>no</td>\n",
       "      <td>northwest</td>\n",
       "      <td>8162.71625</td>\n",
       "    </tr>\n",
       "    <tr>\n",
       "      <th>1334</th>\n",
       "      <td>28</td>\n",
       "      <td>male</td>\n",
       "      <td>35.435</td>\n",
       "      <td>0</td>\n",
       "      <td>no</td>\n",
       "      <td>northeast</td>\n",
       "      <td>3268.84665</td>\n",
       "    </tr>\n",
       "    <tr>\n",
       "      <th>1335</th>\n",
       "      <td>26</td>\n",
       "      <td>male</td>\n",
       "      <td>30.875</td>\n",
       "      <td>2</td>\n",
       "      <td>no</td>\n",
       "      <td>northwest</td>\n",
       "      <td>3877.30425</td>\n",
       "    </tr>\n",
       "    <tr>\n",
       "      <th>1336</th>\n",
       "      <td>29</td>\n",
       "      <td>female</td>\n",
       "      <td>31.160</td>\n",
       "      <td>0</td>\n",
       "      <td>no</td>\n",
       "      <td>northeast</td>\n",
       "      <td>3943.59540</td>\n",
       "    </tr>\n",
       "    <tr>\n",
       "      <th>1337</th>\n",
       "      <td>45</td>\n",
       "      <td>female</td>\n",
       "      <td>35.815</td>\n",
       "      <td>0</td>\n",
       "      <td>no</td>\n",
       "      <td>northwest</td>\n",
       "      <td>7731.85785</td>\n",
       "    </tr>\n",
       "  </tbody>\n",
       "</table>\n",
       "<p>1338 rows × 7 columns</p>\n",
       "</div>"
      ],
      "text/plain": [
       "      age     sex     bmi  children smoker     region      charges\n",
       "0      56  female  28.310         0     no  northeast  11657.71890\n",
       "1      24    male  32.700         0    yes  southwest  34472.84100\n",
       "2      43  female  25.080         0     no  northeast   7325.04820\n",
       "3      54    male  33.630         1     no  northwest  10825.25370\n",
       "4      25    male  26.800         3     no  southwest   3906.12700\n",
       "...   ...     ...     ...       ...    ...        ...          ...\n",
       "1333   40    male  30.875         4     no  northwest   8162.71625\n",
       "1334   28    male  35.435         0     no  northeast   3268.84665\n",
       "1335   26    male  30.875         2     no  northwest   3877.30425\n",
       "1336   29  female  31.160         0     no  northeast   3943.59540\n",
       "1337   45  female  35.815         0     no  northwest   7731.85785\n",
       "\n",
       "[1338 rows x 7 columns]"
      ]
     },
     "execution_count": 107,
     "metadata": {},
     "output_type": "execute_result"
    }
   ],
   "source": [
    "data_shuffle=data_shuffle.reset_index(drop=True)\n",
    "data_shuffle"
   ]
  },
  {
   "cell_type": "code",
   "execution_count": 110,
   "metadata": {},
   "outputs": [],
   "source": [
    "x=data_shuffle.drop(\"charges\",axis=1)\n",
    "y=data_shuffle[\"charges\"]"
   ]
  },
  {
   "cell_type": "code",
   "execution_count": 111,
   "metadata": {},
   "outputs": [],
   "source": [
    "from sklearn.compose import make_column_transformer\n",
    "from sklearn.preprocessing import MinMaxScaler,OneHotEncoder"
   ]
  },
  {
   "cell_type": "code",
   "execution_count": 112,
   "metadata": {},
   "outputs": [],
   "source": [
    "CT=make_column_transformer(\n",
    "    (MinMaxScaler(),[\"age\",\"bmi\",\"children\"]),\n",
    "    (OneHotEncoder(handle_unknown=\"ignore\"),[\"sex\",\"smoker\",\"region\"])\n",
    "    )"
   ]
  },
  {
   "cell_type": "code",
   "execution_count": 116,
   "metadata": {},
   "outputs": [],
   "source": [
    "CT.fit(x)\n",
    "x_scaled=CT.transform(x)"
   ]
  },
  {
   "cell_type": "code",
   "execution_count": 117,
   "metadata": {},
   "outputs": [],
   "source": [
    "from sklearn.model_selection import train_test_split"
   ]
  },
  {
   "cell_type": "code",
   "execution_count": 118,
   "metadata": {},
   "outputs": [],
   "source": [
    "x_all_train,x_test,y_all_train,y_test=train_test_split(x_scaled,y,test_size=0.1,random_state=365)"
   ]
  },
  {
   "cell_type": "code",
   "execution_count": 119,
   "metadata": {},
   "outputs": [],
   "source": [
    "x_train,x_validation,y_train,y_validation=train_test_split(x_all_train,y_all_train,test_size=0.1,random_state=365)"
   ]
  },
  {
   "cell_type": "code",
   "execution_count": 120,
   "metadata": {},
   "outputs": [
    {
     "data": {
      "text/plain": [
       "((1083, 11), (121, 11), (134, 11), (1083,), (121,), (134,))"
      ]
     },
     "execution_count": 120,
     "metadata": {},
     "output_type": "execute_result"
    }
   ],
   "source": [
    "x_train.shape,x_validation.shape,x_test.shape,y_train.shape,y_validation.shape,y_test.shape"
   ]
  },
  {
   "cell_type": "code",
   "execution_count": null,
   "metadata": {},
   "outputs": [],
   "source": [
    "# create the neural nerwork model"
   ]
  },
  {
   "cell_type": "code",
   "execution_count": 121,
   "metadata": {},
   "outputs": [],
   "source": [
    "train_inputs=tf.constant(x_train)\n",
    "train_targets=tf.constant(y_train)\n",
    "\n",
    "validation_inputs=tf.constant(x_validation)\n",
    "validation_targets=tf.constant(y_validation)\n",
    "\n",
    "test_inputs=tf.constant(x_test)\n",
    "test_targets=tf.constant(y_test)"
   ]
  },
  {
   "cell_type": "code",
   "execution_count": 141,
   "metadata": {
    "scrolled": false
   },
   "outputs": [
    {
     "name": "stdout",
     "output_type": "stream",
     "text": [
      "Epoch 1/100\n",
      "22/22 - 1s - loss: 12909.7861 - mae: 12910.2871 - val_loss: 15612.4033 - val_mae: 15612.9033\n",
      "Epoch 2/100\n",
      "22/22 - 0s - loss: 12905.5293 - mae: 12906.0283 - val_loss: 15600.8477 - val_mae: 15601.3477\n",
      "Epoch 3/100\n",
      "22/22 - 0s - loss: 12871.2842 - mae: 12871.7842 - val_loss: 15522.4473 - val_mae: 15522.9473\n",
      "Epoch 4/100\n",
      "22/22 - 0s - loss: 12699.3350 - mae: 12699.8359 - val_loss: 15193.5752 - val_mae: 15194.0752\n",
      "Epoch 5/100\n",
      "22/22 - 0s - loss: 12113.9434 - mae: 12114.4443 - val_loss: 14212.8984 - val_mae: 14213.3984\n",
      "Epoch 6/100\n",
      "22/22 - 0s - loss: 10699.4395 - mae: 10699.9404 - val_loss: 12323.5332 - val_mae: 12324.0332\n",
      "Epoch 7/100\n",
      "22/22 - 0s - loss: 8804.0957 - mae: 8804.5967 - val_loss: 10399.4893 - val_mae: 10399.9893\n",
      "Epoch 8/100\n",
      "22/22 - 0s - loss: 7769.4883 - mae: 7769.9888 - val_loss: 9868.4521 - val_mae: 9868.9521\n",
      "Epoch 9/100\n",
      "22/22 - 0s - loss: 7591.6313 - mae: 7592.1313 - val_loss: 9678.6992 - val_mae: 9679.1992\n",
      "Epoch 10/100\n",
      "22/22 - 0s - loss: 7444.7129 - mae: 7445.2129 - val_loss: 9508.0557 - val_mae: 9508.5557\n",
      "Epoch 11/100\n",
      "22/22 - 0s - loss: 7294.8589 - mae: 7295.3599 - val_loss: 9276.0039 - val_mae: 9276.5039\n",
      "Epoch 12/100\n",
      "22/22 - 0s - loss: 7136.3394 - mae: 7136.8394 - val_loss: 9072.4922 - val_mae: 9072.9922\n",
      "Epoch 13/100\n",
      "22/22 - 0s - loss: 6969.4961 - mae: 6969.9961 - val_loss: 8854.4502 - val_mae: 8854.9502\n",
      "Epoch 14/100\n",
      "22/22 - 0s - loss: 6774.5942 - mae: 6775.0942 - val_loss: 8537.1475 - val_mae: 8537.6475\n",
      "Epoch 15/100\n",
      "22/22 - 0s - loss: 6551.6582 - mae: 6552.1582 - val_loss: 8198.2900 - val_mae: 8198.7891\n",
      "Epoch 16/100\n",
      "22/22 - 0s - loss: 6293.3018 - mae: 6293.8022 - val_loss: 7802.8926 - val_mae: 7803.3926\n",
      "Epoch 17/100\n",
      "22/22 - 0s - loss: 5961.7798 - mae: 5962.2798 - val_loss: 7298.7759 - val_mae: 7299.2759\n",
      "Epoch 18/100\n",
      "22/22 - 0s - loss: 5561.0479 - mae: 5561.5479 - val_loss: 6719.1753 - val_mae: 6719.6753\n",
      "Epoch 19/100\n",
      "22/22 - 0s - loss: 5086.1240 - mae: 5086.6240 - val_loss: 6052.0078 - val_mae: 6052.5078\n",
      "Epoch 20/100\n",
      "22/22 - 0s - loss: 4559.4849 - mae: 4559.9854 - val_loss: 5476.4937 - val_mae: 5476.9937\n",
      "Epoch 21/100\n",
      "22/22 - 0s - loss: 4094.9814 - mae: 4095.4814 - val_loss: 5042.9990 - val_mae: 5043.4990\n",
      "Epoch 22/100\n",
      "22/22 - 0s - loss: 3785.9783 - mae: 3786.4783 - val_loss: 4633.4414 - val_mae: 4633.9409\n",
      "Epoch 23/100\n",
      "22/22 - 0s - loss: 3575.7278 - mae: 3576.2273 - val_loss: 4378.3735 - val_mae: 4378.8735\n",
      "Epoch 24/100\n",
      "22/22 - 0s - loss: 3443.5188 - mae: 3444.0183 - val_loss: 4200.8662 - val_mae: 4201.3662\n",
      "Epoch 25/100\n",
      "22/22 - 0s - loss: 3371.2112 - mae: 3371.7107 - val_loss: 4121.1772 - val_mae: 4121.6772\n",
      "Epoch 26/100\n",
      "22/22 - 0s - loss: 3338.7065 - mae: 3339.2058 - val_loss: 4037.6411 - val_mae: 4038.1411\n",
      "Epoch 27/100\n",
      "22/22 - 0s - loss: 3301.3928 - mae: 3301.8918 - val_loss: 3951.4849 - val_mae: 3951.9849\n",
      "Epoch 28/100\n",
      "22/22 - 0s - loss: 3269.1887 - mae: 3269.6887 - val_loss: 3901.6162 - val_mae: 3902.1157\n",
      "Epoch 29/100\n",
      "22/22 - 0s - loss: 3251.5071 - mae: 3252.0066 - val_loss: 3795.6572 - val_mae: 3796.1570\n",
      "Epoch 30/100\n",
      "22/22 - 0s - loss: 3223.0674 - mae: 3223.5669 - val_loss: 3723.9875 - val_mae: 3724.4875\n",
      "Epoch 31/100\n",
      "22/22 - 0s - loss: 3201.2754 - mae: 3201.7734 - val_loss: 3694.5481 - val_mae: 3695.0481\n",
      "Epoch 32/100\n",
      "22/22 - 0s - loss: 3194.2556 - mae: 3194.7556 - val_loss: 3610.1980 - val_mae: 3610.6980\n",
      "Epoch 33/100\n",
      "22/22 - 0s - loss: 3177.6143 - mae: 3178.1133 - val_loss: 3588.5591 - val_mae: 3589.0591\n",
      "Epoch 34/100\n",
      "22/22 - 0s - loss: 3164.3684 - mae: 3164.8677 - val_loss: 3529.9565 - val_mae: 3530.4556\n",
      "Epoch 35/100\n",
      "22/22 - 0s - loss: 3144.7075 - mae: 3145.2073 - val_loss: 3517.1208 - val_mae: 3517.6177\n",
      "Epoch 36/100\n",
      "22/22 - 0s - loss: 3136.2271 - mae: 3136.7256 - val_loss: 3472.3569 - val_mae: 3472.8569\n",
      "Epoch 37/100\n",
      "22/22 - 0s - loss: 3129.1145 - mae: 3129.6123 - val_loss: 3425.6929 - val_mae: 3426.1914\n",
      "Epoch 38/100\n",
      "22/22 - 0s - loss: 3118.8589 - mae: 3119.3577 - val_loss: 3405.6162 - val_mae: 3406.1135\n",
      "Epoch 39/100\n",
      "22/22 - 0s - loss: 3115.5735 - mae: 3116.0718 - val_loss: 3390.2393 - val_mae: 3390.7393\n",
      "Epoch 40/100\n",
      "22/22 - 0s - loss: 3111.0674 - mae: 3111.5647 - val_loss: 3365.6553 - val_mae: 3366.1536\n",
      "Epoch 41/100\n",
      "22/22 - 0s - loss: 3104.9863 - mae: 3105.4844 - val_loss: 3329.2126 - val_mae: 3329.7119\n",
      "Epoch 42/100\n",
      "22/22 - 0s - loss: 3100.3186 - mae: 3100.8162 - val_loss: 3324.0166 - val_mae: 3324.5161\n",
      "Epoch 43/100\n",
      "22/22 - 0s - loss: 3101.3994 - mae: 3101.8984 - val_loss: 3332.7451 - val_mae: 3333.2451\n",
      "Epoch 44/100\n",
      "22/22 - 0s - loss: 3096.8262 - mae: 3097.3252 - val_loss: 3325.1306 - val_mae: 3325.6306\n",
      "Epoch 45/100\n",
      "22/22 - 0s - loss: 3108.2734 - mae: 3108.7725 - val_loss: 3319.5120 - val_mae: 3320.0120\n",
      "Epoch 46/100\n",
      "22/22 - 0s - loss: 3093.1301 - mae: 3093.6284 - val_loss: 3321.3420 - val_mae: 3321.8389\n",
      "Epoch 47/100\n",
      "22/22 - 0s - loss: 3094.1667 - mae: 3094.6650 - val_loss: 3311.3296 - val_mae: 3311.8296\n",
      "Epoch 48/100\n",
      "22/22 - 0s - loss: 3092.8530 - mae: 3093.3499 - val_loss: 3325.9414 - val_mae: 3326.4414\n",
      "Epoch 49/100\n",
      "22/22 - 0s - loss: 3092.8796 - mae: 3093.3762 - val_loss: 3300.7236 - val_mae: 3301.2195\n",
      "Epoch 50/100\n",
      "22/22 - 0s - loss: 3089.7502 - mae: 3090.2485 - val_loss: 3305.9763 - val_mae: 3306.4763\n",
      "Epoch 51/100\n",
      "22/22 - 0s - loss: 3087.8921 - mae: 3088.3887 - val_loss: 3317.2686 - val_mae: 3317.7681\n",
      "Epoch 52/100\n",
      "22/22 - 0s - loss: 3088.7124 - mae: 3089.2114 - val_loss: 3302.2832 - val_mae: 3302.7764\n"
     ]
    },
    {
     "data": {
      "text/plain": [
       "<tensorflow.python.keras.callbacks.History at 0x23da9b61ac8>"
      ]
     },
     "execution_count": 141,
     "metadata": {},
     "output_type": "execute_result"
    }
   ],
   "source": [
    "tf.random.set_seed(100)\n",
    "\n",
    "input_size=11\n",
    "output_size=1\n",
    "hidden_layer_size=100\n",
    "batch_size=50\n",
    "early_stopping=tf.keras.callbacks.EarlyStopping(patience=3)\n",
    "\n",
    "model=tf.keras.Sequential([\n",
    "                           tf.keras.layers.Dense(hidden_layer_size,activation=\"relu\"),\n",
    "                           tf.keras.layers.Dense(hidden_layer_size,activation=\"relu\"),\n",
    "                           tf.keras.layers.Dense(hidden_layer_size,activation=\"relu\"),\n",
    "                           tf.keras.layers.Dense(output_size,activation=\"relu\")\n",
    "                          ])\n",
    "\n",
    "model.compile(optimizer=\"adam\",loss=\"huber\",metrics=[\"mae\"])\n",
    "\n",
    "model.fit(train_inputs,train_targets,batch_size=batch_size,callbacks=[early_stopping],\n",
    "         validation_data=(validation_inputs,validation_targets),epochs=100,verbose=2)"
   ]
  },
  {
   "cell_type": "code",
   "execution_count": null,
   "metadata": {},
   "outputs": [],
   "source": [
    "# evaluate the model sufficiency "
   ]
  },
  {
   "cell_type": "code",
   "execution_count": 142,
   "metadata": {},
   "outputs": [
    {
     "name": "stdout",
     "output_type": "stream",
     "text": [
      "5/5 [==============================] - 0s 2ms/step - loss: 3071.4351 - mae: 3071.9299\n"
     ]
    }
   ],
   "source": [
    "loss,mae=model.evaluate(test_inputs,test_targets)"
   ]
  },
  {
   "cell_type": "code",
   "execution_count": 143,
   "metadata": {},
   "outputs": [
    {
     "name": "stdout",
     "output_type": "stream",
     "text": [
      "3071.929931640625\n"
     ]
    }
   ],
   "source": [
    "print(mae)"
   ]
  }
 ],
 "metadata": {
  "kernelspec": {
   "display_name": "Python 3",
   "language": "python",
   "name": "python3"
  },
  "language_info": {
   "codemirror_mode": {
    "name": "ipython",
    "version": 3
   },
   "file_extension": ".py",
   "mimetype": "text/x-python",
   "name": "python",
   "nbconvert_exporter": "python",
   "pygments_lexer": "ipython3",
   "version": "3.7.6"
  }
 },
 "nbformat": 4,
 "nbformat_minor": 4
}
